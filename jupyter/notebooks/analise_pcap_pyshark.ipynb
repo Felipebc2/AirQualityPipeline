{
 "cells": [
  {
   "cell_type": "markdown",
   "metadata": {},
   "source": [
    "# 🔍 Análise de Tráfego de Rede com PyShark\n",
    "\n",
    "Este notebook carrega um arquivo `.pcap` gerado por `tcpdump` ou Wireshark, e faz uma análise das comunicações de rede, incluindo protocolos, IPs, DNS, HTTP e LDAP."
   ]
  },
  {
   "cell_type": "code",
   "execution_count": 3,
   "metadata": {},
   "outputs": [
    {
     "name": "stdout",
     "output_type": "stream",
     "text": [
      "Requirement already satisfied: pyshark in /opt/conda/lib/python3.11/site-packages (0.6)\n",
      "Requirement already satisfied: lxml in /opt/conda/lib/python3.11/site-packages (from pyshark) (5.3.2)\n",
      "Requirement already satisfied: termcolor in /opt/conda/lib/python3.11/site-packages (from pyshark) (3.0.1)\n",
      "Requirement already satisfied: packaging in /opt/conda/lib/python3.11/site-packages (from pyshark) (23.2)\n",
      "Requirement already satisfied: appdirs in /opt/conda/lib/python3.11/site-packages (from pyshark) (1.4.4)\n"
     ]
    }
   ],
   "source": [
    "# ✅ Instalação necessária (caso esteja rodando localmente)\n",
    "!pip install pyshark"
   ]
  },
  {
   "cell_type": "code",
   "execution_count": 4,
   "metadata": {},
   "outputs": [
    {
     "ename": "RuntimeError",
     "evalue": "This event loop is already running",
     "output_type": "error",
     "traceback": [
      "\u001b[0;31m---------------------------------------------------------------------------\u001b[0m",
      "\u001b[0;31mRuntimeError\u001b[0m                              Traceback (most recent call last)",
      "Cell \u001b[0;32mIn[4], line 17\u001b[0m\n\u001b[1;32m     14\u001b[0m ldap_auths \u001b[38;5;241m=\u001b[39m []\n\u001b[1;32m     15\u001b[0m http_requests \u001b[38;5;241m=\u001b[39m []\n\u001b[0;32m---> 17\u001b[0m \u001b[38;5;28;01mfor\u001b[39;00m pkt \u001b[38;5;129;01min\u001b[39;00m cap:\n\u001b[1;32m     18\u001b[0m     \u001b[38;5;28;01mtry\u001b[39;00m:\n\u001b[1;32m     19\u001b[0m         \u001b[38;5;28;01mif\u001b[39;00m \u001b[38;5;124m'\u001b[39m\u001b[38;5;124mIP\u001b[39m\u001b[38;5;124m'\u001b[39m \u001b[38;5;129;01min\u001b[39;00m pkt:\n",
      "File \u001b[0;32m/opt/conda/lib/python3.11/site-packages/pyshark/capture/capture.py:212\u001b[0m, in \u001b[0;36mCapture._packets_from_tshark_sync\u001b[0;34m(self, packet_count, existing_process)\u001b[0m\n\u001b[1;32m    204\u001b[0m \u001b[38;5;250m\u001b[39m\u001b[38;5;124;03m\"\"\"Returns a generator of packets.\u001b[39;00m\n\u001b[1;32m    205\u001b[0m \n\u001b[1;32m    206\u001b[0m \u001b[38;5;124;03mThis is the sync version of packets_from_tshark. It wait for the completion of each coroutine and\u001b[39;00m\n\u001b[0;32m   (...)\u001b[0m\n\u001b[1;32m    209\u001b[0m \u001b[38;5;124;03m:param packet_count: If given, stops after this amount of packets is captured.\u001b[39;00m\n\u001b[1;32m    210\u001b[0m \u001b[38;5;124;03m\"\"\"\u001b[39;00m\n\u001b[1;32m    211\u001b[0m \u001b[38;5;66;03m# NOTE: This has code duplication with the async version, think about how to solve this\u001b[39;00m\n\u001b[0;32m--> 212\u001b[0m tshark_process \u001b[38;5;241m=\u001b[39m existing_process \u001b[38;5;129;01mor\u001b[39;00m \u001b[38;5;28;43mself\u001b[39;49m\u001b[38;5;241;43m.\u001b[39;49m\u001b[43meventloop\u001b[49m\u001b[38;5;241;43m.\u001b[39;49m\u001b[43mrun_until_complete\u001b[49m\u001b[43m(\u001b[49m\n\u001b[1;32m    213\u001b[0m \u001b[43m    \u001b[49m\u001b[38;5;28;43mself\u001b[39;49m\u001b[38;5;241;43m.\u001b[39;49m\u001b[43m_get_tshark_process\u001b[49m\u001b[43m(\u001b[49m\u001b[43m)\u001b[49m\u001b[43m)\u001b[49m\n\u001b[1;32m    214\u001b[0m parser \u001b[38;5;241m=\u001b[39m \u001b[38;5;28mself\u001b[39m\u001b[38;5;241m.\u001b[39m_setup_tshark_output_parser()\n\u001b[1;32m    215\u001b[0m packets_captured \u001b[38;5;241m=\u001b[39m \u001b[38;5;241m0\u001b[39m\n",
      "File \u001b[0;32m/opt/conda/lib/python3.11/asyncio/base_events.py:629\u001b[0m, in \u001b[0;36mBaseEventLoop.run_until_complete\u001b[0;34m(self, future)\u001b[0m\n\u001b[1;32m    618\u001b[0m \u001b[38;5;250m\u001b[39m\u001b[38;5;124;03m\"\"\"Run until the Future is done.\u001b[39;00m\n\u001b[1;32m    619\u001b[0m \n\u001b[1;32m    620\u001b[0m \u001b[38;5;124;03mIf the argument is a coroutine, it is wrapped in a Task.\u001b[39;00m\n\u001b[0;32m   (...)\u001b[0m\n\u001b[1;32m    626\u001b[0m \u001b[38;5;124;03mReturn the Future's result, or raise its exception.\u001b[39;00m\n\u001b[1;32m    627\u001b[0m \u001b[38;5;124;03m\"\"\"\u001b[39;00m\n\u001b[1;32m    628\u001b[0m \u001b[38;5;28mself\u001b[39m\u001b[38;5;241m.\u001b[39m_check_closed()\n\u001b[0;32m--> 629\u001b[0m \u001b[38;5;28;43mself\u001b[39;49m\u001b[38;5;241;43m.\u001b[39;49m\u001b[43m_check_running\u001b[49m\u001b[43m(\u001b[49m\u001b[43m)\u001b[49m\n\u001b[1;32m    631\u001b[0m new_task \u001b[38;5;241m=\u001b[39m \u001b[38;5;129;01mnot\u001b[39;00m futures\u001b[38;5;241m.\u001b[39misfuture(future)\n\u001b[1;32m    632\u001b[0m future \u001b[38;5;241m=\u001b[39m tasks\u001b[38;5;241m.\u001b[39mensure_future(future, loop\u001b[38;5;241m=\u001b[39m\u001b[38;5;28mself\u001b[39m)\n",
      "File \u001b[0;32m/opt/conda/lib/python3.11/asyncio/base_events.py:588\u001b[0m, in \u001b[0;36mBaseEventLoop._check_running\u001b[0;34m(self)\u001b[0m\n\u001b[1;32m    586\u001b[0m \u001b[38;5;28;01mdef\u001b[39;00m \u001b[38;5;21m_check_running\u001b[39m(\u001b[38;5;28mself\u001b[39m):\n\u001b[1;32m    587\u001b[0m     \u001b[38;5;28;01mif\u001b[39;00m \u001b[38;5;28mself\u001b[39m\u001b[38;5;241m.\u001b[39mis_running():\n\u001b[0;32m--> 588\u001b[0m         \u001b[38;5;28;01mraise\u001b[39;00m \u001b[38;5;167;01mRuntimeError\u001b[39;00m(\u001b[38;5;124m'\u001b[39m\u001b[38;5;124mThis event loop is already running\u001b[39m\u001b[38;5;124m'\u001b[39m)\n\u001b[1;32m    589\u001b[0m     \u001b[38;5;28;01mif\u001b[39;00m events\u001b[38;5;241m.\u001b[39m_get_running_loop() \u001b[38;5;129;01mis\u001b[39;00m \u001b[38;5;129;01mnot\u001b[39;00m \u001b[38;5;28;01mNone\u001b[39;00m:\n\u001b[1;32m    590\u001b[0m         \u001b[38;5;28;01mraise\u001b[39;00m \u001b[38;5;167;01mRuntimeError\u001b[39;00m(\n\u001b[1;32m    591\u001b[0m             \u001b[38;5;124m'\u001b[39m\u001b[38;5;124mCannot run the event loop while another loop is running\u001b[39m\u001b[38;5;124m'\u001b[39m)\n",
      "\u001b[0;31mRuntimeError\u001b[0m: This event loop is already running"
     ]
    }
   ],
   "source": [
    "import pyshark\n",
    "from collections import Counter\n",
    "\n",
    "# Caminho para o arquivo .pcap\n",
    "pcap_path = '/home/jovyan/data/commnet.pcap'\n",
    "\n",
    "\n",
    "#\n",
    "import nest_asyncio\n",
    "nest_asyncio.apply()\n",
    "\n",
    "\n",
    "# Abre o arquivo .pcap\n",
    "cap = pyshark.FileCapture(pcap_path, use_json=True)\n",
    "\n",
    "protocols = Counter()\n",
    "ips_src = Counter()\n",
    "ips_dst = Counter()\n",
    "dns_queries = []\n",
    "ldap_auths = []\n",
    "http_requests = []\n",
    "\n",
    "for pkt in cap:\n",
    "    try:\n",
    "        if 'IP' in pkt:\n",
    "            ips_src[pkt.ip.src] += 1\n",
    "            ips_dst[pkt.ip.dst] += 1\n",
    "\n",
    "        proto = pkt.highest_layer\n",
    "        protocols[proto] += 1\n",
    "\n",
    "        if 'DNS' in pkt:\n",
    "            dns_queries.append(pkt.dns.qry_name)\n",
    "\n",
    "        if 'HTTP' in pkt:\n",
    "            if hasattr(pkt.http, 'request_full_uri'):\n",
    "                http_requests.append(pkt.http.request_full_uri)\n",
    "\n",
    "        if pkt.transport_layer == 'TCP' and pkt.tcp.dstport in ['389', '636']:\n",
    "            ldap_auths.append(f\"{pkt.ip.src} -> {pkt.ip.dst}\")\n",
    "\n",
    "    except AttributeError:\n",
    "        continue\n",
    "\n",
    "cap.close()"
   ]
  },
  {
   "cell_type": "code",
   "execution_count": null,
   "metadata": {},
   "outputs": [],
   "source": [
    "print(\"📡 Protocolos detectados:\")\n",
    "print(protocols)\n",
    "\n",
    "print(\"\\n🔎 Top 5 IPs de Origem:\")\n",
    "print(ips_src.most_common(5))\n",
    "\n",
    "print(\"\\n🎯 Top 5 IPs de Destino:\")\n",
    "print(ips_dst.most_common(5))\n",
    "\n",
    "print(\"\\n🌐 Consultas DNS:\")\n",
    "for q in dns_queries[:10]:\n",
    "    print(f\" - {q}\")\n",
    "\n",
    "print(\"\\n🔐 Tentativas LDAP (porta 389 ou 636):\")\n",
    "for auth in ldap_auths[:10]:\n",
    "    print(f\" - {auth}\")\n",
    "\n",
    "print(\"\\n📥 Requisições HTTP (exemplo):\")\n",
    "for req in http_requests[:5]:\n",
    "    print(f\" - {req}\")"
   ]
  }
 ],
 "metadata": {
  "kernelspec": {
   "display_name": "Python 3 (ipykernel)",
   "language": "python",
   "name": "python3"
  },
  "language_info": {
   "codemirror_mode": {
    "name": "ipython",
    "version": 3
   },
   "file_extension": ".py",
   "mimetype": "text/x-python",
   "name": "python",
   "nbconvert_exporter": "python",
   "pygments_lexer": "ipython3",
   "version": "3.11.6"
  }
 },
 "nbformat": 4,
 "nbformat_minor": 4
}
