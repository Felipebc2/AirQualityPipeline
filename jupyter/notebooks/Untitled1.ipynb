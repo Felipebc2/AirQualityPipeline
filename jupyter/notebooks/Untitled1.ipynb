{
 "cells": [
  {
   "cell_type": "code",
   "execution_count": 4,
   "id": "5451c0ea-a0a5-4ab4-9cd6-9fab8d8a0cf7",
   "metadata": {},
   "outputs": [
    {
     "name": "stdout",
     "output_type": "stream",
     "text": [
      "Collecting scipy\n",
      "  Downloading scipy-1.15.2-cp311-cp311-manylinux_2_17_x86_64.manylinux2014_x86_64.whl.metadata (61 kB)\n",
      "\u001b[2K     \u001b[90m━━━━━━━━━━━━━━━━━━━━━━━━━━━━━━━━━━━━━━━\u001b[0m \u001b[32m62.0/62.0 kB\u001b[0m \u001b[31m928.1 kB/s\u001b[0m eta \u001b[36m0:00:00\u001b[0ma \u001b[36m0:00:01\u001b[0m\n",
      "\u001b[?25hRequirement already satisfied: numpy<2.5,>=1.23.5 in /opt/conda/lib/python3.11/site-packages (from scipy) (2.2.4)\n",
      "Downloading scipy-1.15.2-cp311-cp311-manylinux_2_17_x86_64.manylinux2014_x86_64.whl (37.6 MB)\n",
      "\u001b[2K   \u001b[90m━━━━━━━━━━━━━━━━━━━━━━━━━━━━━━━━━━━━━━━━\u001b[0m \u001b[32m37.6/37.6 MB\u001b[0m \u001b[31m24.5 MB/s\u001b[0m eta \u001b[36m0:00:00\u001b[0m00:01\u001b[0m00:01\u001b[0m\n",
      "\u001b[?25hInstalling collected packages: scipy\n",
      "Successfully installed scipy-1.15.2\n",
      "Note: you may need to restart the kernel to use updated packages.\n"
     ]
    }
   ],
   "source": [
    "#pip install scipy"
   ]
  },
  {
   "cell_type": "code",
   "execution_count": 6,
   "id": "81a69d20-f4e6-4ae6-a39a-d1e39db572fd",
   "metadata": {},
   "outputs": [
    {
     "name": "stdout",
     "output_type": "stream",
     "text": [
      "ZIP criado com sucesso: /home/jovyan/data/weka_datasets_csv.zip\n"
     ]
    }
   ],
   "source": [
    "# Importando os módulos necessários\n",
    "import os\n",
    "import pandas as pd\n",
    "from scipy.io import arff\n",
    "import zipfile\n",
    "import requests\n",
    "\n",
    "# Definindo o diretório de saída\n",
    "output_dir = \"/home/jovyan/data/weka_csv\"\n",
    "os.makedirs(output_dir, exist_ok=True)\n",
    "converted_files = []\n",
    "\n",
    "# Lista dos 6 datasets recomendados\n",
    "datasets_to_download = {\n",
    "    \"iris\": \"https://storm.cis.fordham.edu/~gweiss/data-mining/weka-data/iris.arff\",\n",
    "    \"vote\": \"https://storm.cis.fordham.edu/~gweiss/data-mining/weka-data/vote.arff\",\n",
    "    \"diabetes\": \"https://storm.cis.fordham.edu/~gweiss/data-mining/weka-data/diabetes.arff\",\n",
    "    \"ionosphere\": \"https://storm.cis.fordham.edu/~gweiss/data-mining/weka-data/ionosphere.arff\",\n",
    "    \"segment-test\": \"https://storm.cis.fordham.edu/~gweiss/data-mining/weka-data/segment-test.arff\",\n",
    "    \"cpu.with.vendor\": \"https://storm.cis.fordham.edu/~gweiss/data-mining/weka-data/cpu.with.vendor.arff\"\n",
    "}\n",
    "\n",
    "# Baixar e converter os arquivos\n",
    "for name, url in datasets_to_download.items():\n",
    "    arff_path = os.path.join(output_dir, f\"{name}.arff\")\n",
    "    csv_path = os.path.join(output_dir, f\"{name}.csv\")\n",
    "\n",
    "    r = requests.get(url)\n",
    "    with open(arff_path, 'wb') as f:\n",
    "        f.write(r.content)\n",
    "\n",
    "    data, meta = arff.loadarff(arff_path)\n",
    "    df = pd.DataFrame(data)\n",
    "    df = df.apply(lambda col: col.map(lambda x: x.decode() if isinstance(x, bytes) else x))\n",
    "    df.to_csv(csv_path, index=False)\n",
    "    converted_files.append(csv_path)\n",
    "\n",
    "# Criar arquivo ZIP com os CSVs\n",
    "zip_path = \"/home/jovyan/data/weka_datasets_csv.zip\"\n",
    "with zipfile.ZipFile(zip_path, 'w') as zipf:\n",
    "    for file in converted_files:\n",
    "        zipf.write(file, arcname=os.path.basename(file))\n",
    "\n",
    "print(f\"ZIP criado com sucesso: {zip_path}\")"
   ]
  },
  {
   "cell_type": "code",
   "execution_count": 7,
   "id": "ea9d86f6-4ee3-4cb9-a780-68e32f47a629",
   "metadata": {},
   "outputs": [
    {
     "name": "stdout",
     "output_type": "stream",
     "text": [
      "\u001b[0m\u001b[01;32mcommnet.pcap\u001b[0m*  \u001b[01;32mtitanic.csv\u001b[0m*  trafego_completo.csv  weka_datasets_csv.zip\n",
      "\u001b[01;32mtips.csv\u001b[0m*      top_ips.csv   \u001b[01;34mweka_csv\u001b[0m/\n"
     ]
    }
   ],
   "source": [
    "ls /home/jovyan/data/"
   ]
  },
  {
   "cell_type": "code",
   "execution_count": 9,
   "id": "08c2c148-07ba-40d6-9abb-0d4d034f5545",
   "metadata": {},
   "outputs": [
    {
     "name": "stdout",
     "output_type": "stream",
     "text": [
      "cpu.with.vendor.arff  diabetes.csv     iris.arff          segment-test.csv\n",
      "cpu.with.vendor.csv   ionosphere.arff  iris.csv           vote.arff\n",
      "diabetes.arff         ionosphere.csv   segment-test.arff  vote.csv\n"
     ]
    }
   ],
   "source": [
    "ls /home/jovyan/data/weka_csv"
   ]
  },
  {
   "cell_type": "code",
   "execution_count": 10,
   "id": "60caf931-a97f-49d2-b20a-de431cdbc81c",
   "metadata": {},
   "outputs": [],
   "source": [
    "mv /home/jovyan/data/weka_csv/*.csv /home/jovyan/work"
   ]
  },
  {
   "cell_type": "code",
   "execution_count": null,
   "id": "1e3d358a-4514-4079-83a0-feae20e0ef59",
   "metadata": {},
   "outputs": [],
   "source": []
  }
 ],
 "metadata": {
  "kernelspec": {
   "display_name": "Python 3 (ipykernel)",
   "language": "python",
   "name": "python3"
  },
  "language_info": {
   "codemirror_mode": {
    "name": "ipython",
    "version": 3
   },
   "file_extension": ".py",
   "mimetype": "text/x-python",
   "name": "python",
   "nbconvert_exporter": "python",
   "pygments_lexer": "ipython3",
   "version": "3.11.6"
  }
 },
 "nbformat": 4,
 "nbformat_minor": 5
}
